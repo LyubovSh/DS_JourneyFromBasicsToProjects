{
 "cells": [
  {
   "cell_type": "code",
   "execution_count": 6,
   "id": "4e76d130",
   "metadata": {},
   "outputs": [],
   "source": [
    "from movielens_analysis import Movies, Links, Ratings, Tags"
   ]
  },
  {
   "cell_type": "markdown",
   "id": "1abc6f30",
   "metadata": {},
   "source": [
    "# Работа класса <span style=\"color:red\"><u>Ratings</u></span> "
   ]
  },
  {
   "cell_type": "markdown",
   "id": "d33381e0",
   "metadata": {},
   "source": [
    "## Основные методы"
   ]
  },
  {
   "cell_type": "markdown",
   "id": "2685b3d2",
   "metadata": {},
   "source": [
    "<span style=\"font-size:30px;\">1) В какой год вышло больше всего фильмов из датасета? </span>\n",
    "\n",
    "<span style=\"font-size:20px;\">На этот вопрос отвечает первый метод из класса Ratings:</span>"
   ]
  },
  {
   "cell_type": "code",
   "execution_count": 5,
   "id": "b4962d78",
   "metadata": {},
   "outputs": [
    {
     "name": "stdout",
     "output_type": "stream",
     "text": [
      "9.14 ms ± 83.3 μs per loop (mean ± std. dev. of 7 runs, 100 loops each)\n"
     ]
    }
   ],
   "source": [
    "%timeit rat_main = Ratings('../datasets/ratings.csv', '../datasets/movies.csv')\n",
    "rat_main = Ratings('../datasets/ratings.csv', '../datasets/movies.csv')\n"
   ]
  },
  {
   "cell_type": "code",
   "execution_count": 6,
   "id": "c72731ec",
   "metadata": {},
   "outputs": [
    {
     "name": "stdout",
     "output_type": "stream",
     "text": [
      "444 μs ± 1.3 μs per loop (mean ± std. dev. of 7 runs, 1,000 loops each)\n"
     ]
    },
    {
     "data": {
      "text/plain": [
       "{1996: 358,\n",
       " 1999: 82,\n",
       " 2000: 296,\n",
       " 2001: 70,\n",
       " 2005: 121,\n",
       " 2006: 4,\n",
       " 2007: 1,\n",
       " 2011: 39,\n",
       " 2015: 29}"
      ]
     },
     "execution_count": 6,
     "metadata": {},
     "output_type": "execute_result"
    }
   ],
   "source": [
    "%timeit rat_main.Movies(rat_main.file, rat_main.movies_names).dist_by_year()\n",
    "rat_main.Movies(rat_main.file, rat_main.movies_names).dist_by_year()"
   ]
  },
  {
   "cell_type": "markdown",
   "id": "f736c6b9",
   "metadata": {},
   "source": [
    "<span style=\"font-size:30px;\">2) Каких оценок фильмам поставили больше всего?</span>\n",
    "\n",
    "<span style=\"font-size:20px;\"> распределение оценок показывает метод dist_by_rating</span>"
   ]
  },
  {
   "cell_type": "code",
   "execution_count": 7,
   "id": "7c223794",
   "metadata": {},
   "outputs": [
    {
     "name": "stdout",
     "output_type": "stream",
     "text": [
      "91.1 μs ± 519 ns per loop (mean ± std. dev. of 7 runs, 10,000 loops each)\n"
     ]
    },
    {
     "data": {
      "text/plain": [
       "{0.5: 24,\n",
       " 1.0: 39,\n",
       " 1.5: 11,\n",
       " 2.0: 57,\n",
       " 2.5: 7,\n",
       " 3.0: 253,\n",
       " 3.5: 17,\n",
       " 4.0: 292,\n",
       " 4.5: 33,\n",
       " 5.0: 267}"
      ]
     },
     "execution_count": 7,
     "metadata": {},
     "output_type": "execute_result"
    }
   ],
   "source": [
    "%timeit rat_main.Movies(rat_main.file, rat_main.movies_names).dist_by_rating()\n",
    "rat_main.Movies(rat_main.file, rat_main.movies_names).dist_by_rating()"
   ]
  },
  {
   "cell_type": "markdown",
   "id": "130d131a",
   "metadata": {},
   "source": [
    "<span style=\"font-size:30px;\">3) Каким фильмам пользователи поставили больше всего оценок?</span>\n",
    "\n",
    "<span style=\"font-size:20px;\"> Топ n фильмов с наибольшим числом оставленных оценок</span>"
   ]
  },
  {
   "cell_type": "code",
   "execution_count": 8,
   "id": "95dd89e1",
   "metadata": {},
   "outputs": [
    {
     "name": "stdout",
     "output_type": "stream",
     "text": [
      "137 μs ± 724 ns per loop (mean ± std. dev. of 7 runs, 10,000 loops each)\n"
     ]
    },
    {
     "data": {
      "text/plain": [
       "{'Usual Suspects, The (1995)': 4,\n",
       " 'Pulp Fiction (1994)': 4,\n",
       " 'Fugitive, The (1993)': 4,\n",
       " \"Schindler's List (1993)\": 4,\n",
       " 'Batman (1989)': 4,\n",
       " 'Silence of the Lambs, The (1991)': 4,\n",
       " 'Fargo (1996)': 4}"
      ]
     },
     "execution_count": 8,
     "metadata": {},
     "output_type": "execute_result"
    }
   ],
   "source": [
    "%timeit rat_main.Movies(rat_main.file, rat_main.movies_names).top_by_num_of_ratings(7)\n",
    "rat_main.Movies(rat_main.file, rat_main.movies_names).top_by_num_of_ratings(7)"
   ]
  },
  {
   "cell_type": "markdown",
   "id": "6a5265fc",
   "metadata": {},
   "source": [
    "<span style=\"font-size:30px;\"> 4) Как узнать фильмы с наивысшей средней оценкой? </span>\n",
    "\n",
    "<span style=\"font-size:20px;\"> метод top_by_ratings выдает топ n фильмов по среднему или медианному рейтингу </span>"
   ]
  },
  {
   "cell_type": "code",
   "execution_count": 9,
   "id": "c49a56ce",
   "metadata": {},
   "outputs": [
    {
     "name": "stdout",
     "output_type": "stream",
     "text": [
      "439 μs ± 1.78 μs per loop (mean ± std. dev. of 7 runs, 1,000 loops each)\n"
     ]
    },
    {
     "data": {
      "text/plain": [
       "{'Bottle Rocket (1996)': 5.0,\n",
       " 'Canadian Bacon (1995)': 5.0,\n",
       " 'Star Wars: Episode IV - A New Hope (1977)': 5.0,\n",
       " 'James and the Giant Peach (1996)': 5.0,\n",
       " 'Wizard of Oz, The (1939)': 5.0,\n",
       " 'Citizen Kane (1941)': 5.0,\n",
       " 'Adventures of Robin Hood, The (1938)': 5.0}"
      ]
     },
     "execution_count": 9,
     "metadata": {},
     "output_type": "execute_result"
    }
   ],
   "source": [
    "%timeit rat_main.Movies(rat_main.file, rat_main.movies_names).top_by_ratings(7)\n",
    "rat_main.Movies(rat_main.file, rat_main.movies_names).top_by_ratings(7)"
   ]
  },
  {
   "cell_type": "markdown",
   "id": "92d9e15d",
   "metadata": {},
   "source": [
    "<span style=\"font-size:30px;\">5) топ n фильмов с наибольшей дисперсией в оставленных оценках</span>"
   ]
  },
  {
   "cell_type": "code",
   "execution_count": 10,
   "id": "1c0ca911",
   "metadata": {},
   "outputs": [
    {
     "name": "stdout",
     "output_type": "stream",
     "text": [
      "405 μs ± 2.26 μs per loop (mean ± std. dev. of 7 runs, 1,000 loops each)\n"
     ]
    },
    {
     "data": {
      "text/plain": [
       "{'Bambi (1942)': 10.12,\n",
       " 'Rescuers, The (1977)': 10.12,\n",
       " 'My Fair Lady (1964)': 10.12,\n",
       " 'Matrix, The (1999)': 8.0,\n",
       " 'Good Will Hunting (1997)': 6.12,\n",
       " 'Courage Under Fire (1996)': 6.12,\n",
       " \"Schindler's List (1993)\": 4.56}"
      ]
     },
     "execution_count": 10,
     "metadata": {},
     "output_type": "execute_result"
    }
   ],
   "source": [
    "%timeit rat_main.Movies(rat_main.file, rat_main.movies_names).top_controversial(7)\n",
    "rat_main.Movies(rat_main.file, rat_main.movies_names).top_controversial(7)"
   ]
  },
  {
   "cell_type": "markdown",
   "id": "24fd77bd",
   "metadata": {},
   "source": [
    "## Методы вложенного класса - Users\n",
    "\n",
    "*(Users наследуется от Movies)"
   ]
  },
  {
   "cell_type": "markdown",
   "id": "27a78fe9",
   "metadata": {},
   "source": [
    "<span style=\"font-size:30px;\"> 1) метод users_by_num_rat показывает сколько оценок оставил каждый пользователь</span>"
   ]
  },
  {
   "cell_type": "code",
   "execution_count": 11,
   "id": "99104bb8",
   "metadata": {},
   "outputs": [
    {
     "name": "stdout",
     "output_type": "stream",
     "text": [
      "36.1 μs ± 55.1 ns per loop (mean ± std. dev. of 7 runs, 10,000 loops each)\n"
     ]
    },
    {
     "data": {
      "text/plain": [
       "{'6': 314, '1': 232, '4': 216, '7': 126, '5': 44, '3': 39, '2': 29}"
      ]
     },
     "execution_count": 11,
     "metadata": {},
     "output_type": "execute_result"
    }
   ],
   "source": [
    "%timeit rat_main.Users(rat_main.file, rat_main.movies_names).users_by_num_rat()\n",
    "rat_main.Users(rat_main.file, rat_main.movies_names).users_by_num_rat()"
   ]
  },
  {
   "cell_type": "markdown",
   "id": "a906a613",
   "metadata": {},
   "source": [
    "<span style=\"font-size:30px;\"> 2) метод users_by_rat показывает усредненную оценку по каждому пользователю</span>"
   ]
  },
  {
   "cell_type": "code",
   "execution_count": 12,
   "id": "4bab4209",
   "metadata": {},
   "outputs": [
    {
     "name": "stdout",
     "output_type": "stream",
     "text": [
      "84.4 μs ± 317 ns per loop (mean ± std. dev. of 7 runs, 10,000 loops each)\n"
     ]
    },
    {
     "data": {
      "text/plain": [
       "{'1': 4.37, '2': 3.95, '5': 3.64, '4': 3.56, '6': 3.49, '7': 3.35, '3': 2.44}"
      ]
     },
     "execution_count": 12,
     "metadata": {},
     "output_type": "execute_result"
    }
   ],
   "source": [
    "%timeit rat_main.Users(rat_main.file, rat_main.movies_names).users_by_rat()\n",
    "rat_main.Users(rat_main.file, rat_main.movies_names).users_by_rat()"
   ]
  },
  {
   "cell_type": "markdown",
   "id": "1b3625f9",
   "metadata": {},
   "source": [
    "<span style=\"font-size:30px;\"> 3) метод users_var выдает топ n пользователей с наибольшей дисперсией в оценках</span>"
   ]
  },
  {
   "cell_type": "code",
   "execution_count": 13,
   "id": "28ea1282",
   "metadata": {},
   "outputs": [
    {
     "name": "stdout",
     "output_type": "stream",
     "text": [
      "152 μs ± 681 ns per loop (mean ± std. dev. of 7 runs, 10,000 loops each)\n"
     ]
    },
    {
     "data": {
      "text/plain": [
       "{'3': 4.37, '4': 1.73, '7': 1.67, '5': 0.98, '6': 0.72, '2': 0.65, '1': 0.64}"
      ]
     },
     "execution_count": 13,
     "metadata": {},
     "output_type": "execute_result"
    }
   ],
   "source": [
    "%timeit rat_main.Users(rat_main.file, rat_main.movies_names).users_var(7)\n",
    "rat_main.Users(rat_main.file, rat_main.movies_names).users_var(7)"
   ]
  },
  {
   "cell_type": "markdown",
   "id": "5974c64f",
   "metadata": {},
   "source": [
    "## Дополнительные методы:"
   ]
  },
  {
   "cell_type": "markdown",
   "id": "d5198139",
   "metadata": {},
   "source": [
    "<span style=\"font-size:30px;\"> 1) Хочешь узнать в какой месяц выходит больше всего фильмов? </span>\n",
    "\n",
    "<span style=\"font-size:20px;\"> метод dist_by_month приводит распредление частоты выхода фильмов по месяцам: </span>"
   ]
  },
  {
   "cell_type": "code",
   "execution_count": 14,
   "id": "1e45aa2a",
   "metadata": {},
   "outputs": [
    {
     "name": "stdout",
     "output_type": "stream",
     "text": [
      "422 μs ± 662 ns per loop (mean ± std. dev. of 7 runs, 1,000 loops each)\n"
     ]
    },
    {
     "data": {
      "text/plain": [
       "{1: 106,\n",
       " 2: 4,\n",
       " 3: 8,\n",
       " 4: 57,\n",
       " 5: 39,\n",
       " 6: 1,\n",
       " 7: 296,\n",
       " 8: 1,\n",
       " 9: 1,\n",
       " 10: 346,\n",
       " 11: 44,\n",
       " 12: 97}"
      ]
     },
     "execution_count": 14,
     "metadata": {},
     "output_type": "execute_result"
    }
   ],
   "source": [
    "%timeit rat_main.Movies(rat_main.file, rat_main.movies_names).dist_by_month()\n",
    "rat_main.Movies(rat_main.file, rat_main.movies_names).dist_by_month()"
   ]
  },
  {
   "cell_type": "markdown",
   "id": "865c6bb3",
   "metadata": {},
   "source": [
    "<span style=\"font-size:30px;\"> 2) а когда выходит что-то годное? </span>\n",
    "\n",
    "<span style=\"font-size:20px;\"> согласно датасету, в июле рейтинг в среднем повыше </span>"
   ]
  },
  {
   "cell_type": "code",
   "execution_count": 15,
   "id": "5b0def92",
   "metadata": {},
   "outputs": [
    {
     "name": "stdout",
     "output_type": "stream",
     "text": [
      "477 μs ± 3.42 μs per loop (mean ± std. dev. of 7 runs, 1,000 loops each)\n"
     ]
    },
    {
     "data": {
      "text/plain": [
       "{1: 3.47,\n",
       " 2: 3.12,\n",
       " 3: 2.38,\n",
       " 4: 3.26,\n",
       " 5: 2.44,\n",
       " 6: 3.5,\n",
       " 7: 4.23,\n",
       " 8: 4.0,\n",
       " 9: 0.5,\n",
       " 10: 3.52,\n",
       " 11: 3.64,\n",
       " 12: 3.62}"
      ]
     },
     "execution_count": 15,
     "metadata": {},
     "output_type": "execute_result"
    }
   ],
   "source": [
    "%timeit rat_main.Movies(rat_main.file, rat_main.movies_names).top_by_month()\n",
    "rat_main.Movies(rat_main.file, rat_main.movies_names).top_by_month()"
   ]
  },
  {
   "cell_type": "markdown",
   "id": "201808b4",
   "metadata": {},
   "source": [
    "# Работа класса <span style=\"color:red\"><u>Tags</u></span> "
   ]
  },
  {
   "cell_type": "markdown",
   "id": "67aadd56",
   "metadata": {},
   "source": [
    "## Основные методы"
   ]
  },
  {
   "cell_type": "markdown",
   "id": "75db688f",
   "metadata": {},
   "source": [
    "<span style=\"font-size:30px;\">1) Топ n tags по количеству слов внутри</span>"
   ]
  },
  {
   "cell_type": "code",
   "execution_count": 17,
   "id": "acf9edf1",
   "metadata": {},
   "outputs": [
    {
     "name": "stdout",
     "output_type": "stream",
     "text": [
      "461 μs ± 3.44 μs per loop (mean ± std. dev. of 7 runs, 1,000 loops each)\n"
     ]
    }
   ],
   "source": [
    "%timeit tag_main = Tags('../datasets/tags.csv')\n",
    "tag_main = Tags('../datasets/tags.csv')\n"
   ]
  },
  {
   "cell_type": "code",
   "execution_count": 18,
   "id": "2627781b",
   "metadata": {},
   "outputs": [
    {
     "name": "stdout",
     "output_type": "stream",
     "text": [
      "130 μs ± 983 ns per loop (mean ± std. dev. of 7 runs, 10,000 loops each)\n"
     ]
    },
    {
     "data": {
      "text/plain": [
       "{'Something for everyone in this one... saw it without and plan on seeing it with kids!': 16,\n",
       " 'the catholic church is the most corrupt organization in history': 10,\n",
       " 'Oscar (Best Music - Original Score)': 6,\n",
       " 'based on a true story': 5,\n",
       " 'Everything you want is here': 5,\n",
       " 'based on a play': 4,\n",
       " 'political right versus left': 4,\n",
       " 'a clever chef rat': 4}"
      ]
     },
     "execution_count": 18,
     "metadata": {},
     "output_type": "execute_result"
    }
   ],
   "source": [
    "%timeit tag_main.most_words(8)\n",
    "tag_main.most_words(8)"
   ]
  },
  {
   "cell_type": "markdown",
   "id": "eebb2f14",
   "metadata": {},
   "source": [
    "<span style=\"font-size:30px;\">2) Топ n tags по количеству символов</span>"
   ]
  },
  {
   "cell_type": "code",
   "execution_count": 19,
   "id": "2e812c8d",
   "metadata": {},
   "outputs": [
    {
     "name": "stdout",
     "output_type": "stream",
     "text": [
      "88.9 μs ± 1.65 μs per loop (mean ± std. dev. of 7 runs, 10,000 loops each)\n"
     ]
    },
    {
     "data": {
      "text/plain": [
       "['Something for everyone in this one... saw it without and plan on seeing it with kids!',\n",
       " 'the catholic church is the most corrupt organization in history',\n",
       " 'audience intelligence underestimated',\n",
       " 'Oscar (Best Music - Original Score)',\n",
       " 'assassin-in-training (scene)',\n",
       " 'political right versus left',\n",
       " 'Oscar (Best Cinematography)',\n",
       " 'Everything you want is here']"
      ]
     },
     "execution_count": 19,
     "metadata": {},
     "output_type": "execute_result"
    }
   ],
   "source": [
    "%timeit tag_main.longest(8)\n",
    "tag_main.longest(8)"
   ]
  },
  {
   "cell_type": "markdown",
   "id": "ba67a75c",
   "metadata": {},
   "source": [
    "<span style=\"font-size:30px;\">3) пересечение между топом по количеству слов в tag и количеству символов в tag</span>"
   ]
  },
  {
   "cell_type": "code",
   "execution_count": 20,
   "id": "57b40ba5",
   "metadata": {},
   "outputs": [
    {
     "name": "stdout",
     "output_type": "stream",
     "text": [
      "233 μs ± 2.05 μs per loop (mean ± std. dev. of 7 runs, 1,000 loops each)\n"
     ]
    },
    {
     "data": {
      "text/plain": [
       "['Everything you want is here',\n",
       " 'the catholic church is the most corrupt organization in history',\n",
       " 'Something for everyone in this one... saw it without and plan on seeing it with kids!',\n",
       " 'political right versus left',\n",
       " 'Oscar (Best Music - Original Score)']"
      ]
     },
     "execution_count": 20,
     "metadata": {},
     "output_type": "execute_result"
    }
   ],
   "source": [
    "%timeit tag_main.most_words_and_longest(8)\n",
    "tag_main.most_words_and_longest(8)"
   ]
  },
  {
   "cell_type": "markdown",
   "id": "91f938e0",
   "metadata": {},
   "source": [
    "<span style=\"font-size:30px;\">4) Топ n tags по частоте встречаемости</span>"
   ]
  },
  {
   "cell_type": "code",
   "execution_count": 21,
   "id": "4a13d6d4",
   "metadata": {},
   "outputs": [
    {
     "name": "stdout",
     "output_type": "stream",
     "text": [
      "95.3 μs ± 228 ns per loop (mean ± std. dev. of 7 runs, 10,000 loops each)\n"
     ]
    },
    {
     "data": {
      "text/plain": [
       "{'funny': 15,\n",
       " 'sci-fi': 14,\n",
       " 'twist ending': 12,\n",
       " 'dark comedy': 12,\n",
       " 'atmospheric': 10,\n",
       " 'superhero': 10,\n",
       " 'comedy': 10,\n",
       " 'action': 10}"
      ]
     },
     "execution_count": 21,
     "metadata": {},
     "output_type": "execute_result"
    }
   ],
   "source": [
    "%timeit tag_main.most_popular(8)\n",
    "tag_main.most_popular(8)"
   ]
  },
  {
   "cell_type": "markdown",
   "id": "9f7a74ae",
   "metadata": {},
   "source": [
    "<span style=\"font-size:30px;\">5) Вывод tags, которые включают введеное слово</span>"
   ]
  },
  {
   "cell_type": "code",
   "execution_count": 22,
   "id": "6152c4d8",
   "metadata": {},
   "outputs": [
    {
     "name": "stdout",
     "output_type": "stream",
     "text": [
      "64.8 μs ± 381 ns per loop (mean ± std. dev. of 7 runs, 10,000 loops each)\n"
     ]
    },
    {
     "data": {
      "text/plain": [
       "['Oscar (Best Actress)',\n",
       " 'Oscar (Best Cinematography)',\n",
       " 'Oscar (Best Music - Original Score)']"
      ]
     },
     "execution_count": 22,
     "metadata": {},
     "output_type": "execute_result"
    }
   ],
   "source": [
    "%timeit tag_main.tags_with('oscar')\n",
    "tag_main.tags_with('oscar')"
   ]
  },
  {
   "cell_type": "markdown",
   "id": "c233b7c9",
   "metadata": {},
   "source": [
    "<span style=\"font-size:30px;\">5) Вывод tags, которые включают введеное слово</span>"
   ]
  },
  {
   "cell_type": "code",
   "execution_count": 23,
   "id": "7e884544",
   "metadata": {},
   "outputs": [
    {
     "name": "stdout",
     "output_type": "stream",
     "text": [
      "64.8 μs ± 684 ns per loop (mean ± std. dev. of 7 runs, 10,000 loops each)\n"
     ]
    },
    {
     "data": {
      "text/plain": [
       "['mad scientist', 'sexy female scientist']"
      ]
     },
     "execution_count": 23,
     "metadata": {},
     "output_type": "execute_result"
    }
   ],
   "source": [
    "%timeit tag_main.tags_with('scientist')\n",
    "tag_main.tags_with('scientist')"
   ]
  },
  {
   "cell_type": "markdown",
   "id": "4271d3dd",
   "metadata": {},
   "source": [
    "## Дополнительные методы"
   ]
  },
  {
   "cell_type": "markdown",
   "id": "be3c372f",
   "metadata": {},
   "source": [
    "<span style=\"font-size:30px;\">1) Для фильмов какого года выпуска добавленно больше всего тэгов?</span>"
   ]
  },
  {
   "cell_type": "markdown",
   "id": "2c82f418",
   "metadata": {},
   "source": [
    "<span style=\"font-size:30px;\">....</span>"
   ]
  },
  {
   "cell_type": "code",
   "execution_count": 24,
   "id": "bae20dfa",
   "metadata": {},
   "outputs": [
    {
     "name": "stdout",
     "output_type": "stream",
     "text": [
      "463 μs ± 2.77 μs per loop (mean ± std. dev. of 7 runs, 1,000 loops each)\n"
     ]
    },
    {
     "data": {
      "text/plain": [
       "{2006: 42,\n",
       " 2007: 8,\n",
       " 2008: 7,\n",
       " 2009: 13,\n",
       " 2010: 13,\n",
       " 2011: 7,\n",
       " 2012: 45,\n",
       " 2013: 9,\n",
       " 2014: 7,\n",
       " 2015: 79,\n",
       " 2016: 355,\n",
       " 2017: 3,\n",
       " 2018: 412}"
      ]
     },
     "execution_count": 24,
     "metadata": {},
     "output_type": "execute_result"
    }
   ],
   "source": [
    "%timeit tag_main.tag_by_year()\n",
    "tag_main.tag_by_year()"
   ]
  },
  {
   "cell_type": "markdown",
   "id": "f60f0673-f919-4dd8-9683-fba1e7546980",
   "metadata": {},
   "source": [
    "# Работа класса <span style=\"color:red\"><u>Movies</u></span> "
   ]
  },
  {
   "cell_type": "code",
   "execution_count": 7,
   "id": "e554ea73-d0a7-4e19-8b02-01643ce70dde",
   "metadata": {},
   "outputs": [
    {
     "name": "stdout",
     "output_type": "stream",
     "text": [
      "8.41 ms ± 76.6 μs per loop (mean ± std. dev. of 7 runs, 100 loops each)\n"
     ]
    }
   ],
   "source": [
    "%timeit Movies('../datasets/movies.csv')\n",
    "movies = Movies('../datasets/movies.csv')"
   ]
  },
  {
   "cell_type": "markdown",
   "id": "585a568e-0e5f-4f05-9e9a-6b5b24cc5c23",
   "metadata": {},
   "source": [
    "**Метод возвращает словарь, где ключи - годы, а значения - количество фильмов.\n",
    "Необходимо извлечь годы из названий. Отсортировать по количеству по убыванию.**\n",
    "\n",
    "Покажем распределение по годам выпуска (топ-5 лет по количеству фильмов)"
   ]
  },
  {
   "cell_type": "code",
   "execution_count": 63,
   "id": "cf063899-594e-4c61-bbf5-5cc0a85f1b9a",
   "metadata": {},
   "outputs": [
    {
     "name": "stdout",
     "output_type": "stream",
     "text": [
      "253 μs ± 598 ns per loop (mean ± std. dev. of 7 runs, 1,000 loops each)\n",
      "1. 1995 год: 224 фильмов\n",
      "2. 1994 год: 184 фильмов\n",
      "3. 1996 год: 181 фильмов\n",
      "4. 1993 год: 101 фильмов\n",
      "5. 1992 год: 23 фильмов\n"
     ]
    }
   ],
   "source": [
    "%timeit years_dist = movies.dist_by_release()\n",
    "for i, (year, count) in enumerate(list(years_dist.items())[:5]):\n",
    "    print(f\"{i+1}. {year} год: {count} фильмов\")"
   ]
  },
  {
   "cell_type": "markdown",
   "id": "d751ac8a-19fe-4587-ae79-d0fb440b856b",
   "metadata": {},
   "source": [
    "**Метод возвращает словарь, где ключи - жанры, а значения - количество фильмов. Отсортировать по количеству по убыванию.**\n",
    "\n",
    "Покажем распределение по жанрам (топ-5 жанров)"
   ]
  },
  {
   "cell_type": "code",
   "execution_count": 64,
   "id": "bdec5db3-d289-44b6-bbc4-d016784a1f3b",
   "metadata": {},
   "outputs": [
    {
     "name": "stdout",
     "output_type": "stream",
     "text": [
      "265 μs ± 1.13 μs per loop (mean ± std. dev. of 7 runs, 1,000 loops each)\n",
      "1. Drama: 507 фильмов\n",
      "2. Comedy: 365 фильмов\n",
      "3. Romance: 208 фильмов\n",
      "4. Thriller: 179 фильмов\n",
      "5. Action: 158 фильмов\n"
     ]
    }
   ],
   "source": [
    "%timeit genres_dist = movies.dist_by_genres()\n",
    "for i, (genre, count) in enumerate(list(genres_dist.items())[:5]):\n",
    "    print(f\"{i+1}. {genre}: {count} фильмов\")"
   ]
  },
  {
   "cell_type": "markdown",
   "id": "71611cc8-8b4a-41a8-905b-388888d6fd85",
   "metadata": {},
   "source": [
    "**Метод возвращает словаль с top-n фильмами, где ключи - названия фильмов, а значения - количество жанров фильма. Отсортировать по количеству по убыванию.**\n",
    "\n",
    "Покажем фильмы с наибольшим количеством жанров (топ-5 фильмов по количеству жанров)."
   ]
  },
  {
   "cell_type": "code",
   "execution_count": 59,
   "id": "6b8f865d-9596-42d7-a9f1-35c3f9e67ad7",
   "metadata": {},
   "outputs": [
    {
     "name": "stdout",
     "output_type": "stream",
     "text": [
      "185 μs ± 1.35 μs per loop (mean ± std. dev. of 7 runs, 10,000 loops each)\n",
      "Strange Days (1995): 6 жанров\n",
      "Lion King, The (1994): 6 жанров\n",
      "Getaway, The (1994): 6 жанров\n",
      "Super Mario Bros. (1993): 6 жанров\n",
      "Beauty and the Beast (1991): 6 жанров\n"
     ]
    }
   ],
   "source": [
    "%timeit most_genres = movies.most_genres(5)\n",
    "for movie, count in most_genres.items():\n",
    "    print(f\"{movie}: {count} жанров\")"
   ]
  },
  {
   "cell_type": "markdown",
   "id": "960ff810-fc3f-48de-93e2-bb25c5308e6d",
   "metadata": {},
   "source": [
    "## Дополнительные методы класса:"
   ]
  },
  {
   "cell_type": "markdown",
   "id": "9303d040-4e5e-4367-a1b5-5d3320290d2d",
   "metadata": {},
   "source": [
    "**Отсортирум методы по названию**"
   ]
  },
  {
   "cell_type": "code",
   "execution_count": 58,
   "id": "b98dd049-8603-4c5d-9f5f-09264fae4786",
   "metadata": {},
   "outputs": [
    {
     "name": "stdout",
     "output_type": "stream",
     "text": [
      "136 μs ± 1.28 μs per loop (mean ± std. dev. of 7 runs, 10,000 loops each)\n",
      "1. 'Til There Was You (1997)\n",
      "2. 1-900 (06) (1994)\n",
      "3. 12 Angry Men (1957)\n",
      "4. 2 Days in the Valley (1996)\n",
      "5. 20,000 Leagues Under the Sea (1954)\n"
     ]
    }
   ],
   "source": [
    "%timeit sorted_movies = movies.sort_by_title()\n",
    "for i, movie in enumerate(sorted_movies[:5]):\n",
    "    print(f\"{i+1}. {movie['title']}\")"
   ]
  },
  {
   "cell_type": "markdown",
   "id": "e6a25bd2-4441-4f08-978b-7c79f6ebddbe",
   "metadata": {},
   "source": [
    "**Группировка по жанрам**"
   ]
  },
  {
   "cell_type": "code",
   "execution_count": 57,
   "id": "710127a7-6dee-43a2-a8e2-4a54de0de570",
   "metadata": {},
   "outputs": [
    {
     "name": "stdout",
     "output_type": "stream",
     "text": [
      "271 μs ± 941 ns per loop (mean ± std. dev. of 7 runs, 1,000 loops each)\n",
      "1. Adventure: 126 фильмов\n",
      "2. Animation: 37 фильмов\n",
      "3. Children: 100 фильмов\n",
      "4. Comedy: 365 фильмов\n",
      "5. Fantasy: 69 фильмов\n"
     ]
    }
   ],
   "source": [
    "%timeit genres = movies.group_by_genres()\n",
    "for i, (genre, film_list) in enumerate(list(genres.items())[:5]):\n",
    "    print(f\"{i+1}. {genre}: {len(film_list)} фильмов\")"
   ]
  },
  {
   "cell_type": "markdown",
   "id": "39a7158e-4fcf-4964-9765-dc4dd7b58c01",
   "metadata": {},
   "source": [
    "**Гистограмма по жанрам за 5-летние периоды**"
   ]
  },
  {
   "cell_type": "code",
   "execution_count": 72,
   "id": "f039c6c5-b382-4d5a-a103-666e76ea0743",
   "metadata": {},
   "outputs": [
    {
     "name": "stdout",
     "output_type": "stream",
     "text": [
      "\n",
      "==================================================================\n",
      "ГИСТОГРАММА НАБОЛЕЕ ЧАСТОВСТРЕЧАЮЩИХСЯ ЖАНРОВ ПО 5-ЛЕТНИМ ПЕРИОДАМ\n",
      "==================================================================\n",
      "\n",
      "Период: 1931-1935\n",
      "------------------------------\n",
      "Comedy          ▇ (5)\n",
      "Romance         ▇ (4)\n",
      "Musical         ▇ (3)\n",
      "Crime            (2)\n",
      "Thriller         (2)\n",
      "\n",
      "Период: 1936-1940\n",
      "------------------------------\n",
      "Drama           ▇▇▇ (11)\n",
      "Romance         ▇▇▇ (9)\n",
      "Comedy          ▇▇ (8)\n",
      "Children        ▇▇ (6)\n",
      "Fantasy         ▇ (5)\n",
      "\n",
      "Период: 1941-1945\n",
      "------------------------------\n",
      "Drama           ▇▇▇ (9)\n",
      "Mystery         ▇ (5)\n",
      "Romance         ▇ (4)\n",
      "Comedy          ▇ (3)\n",
      "Musical         ▇ (3)\n",
      "\n",
      "Период: 1946-1950\n",
      "------------------------------\n",
      "Film-Noir       ▇ (5)\n",
      "Romance         ▇ (5)\n",
      "Drama           ▇ (5)\n",
      "Fantasy         ▇ (3)\n",
      "Thriller         (2)\n",
      "\n",
      "Период: 1951-1955\n",
      "------------------------------\n",
      "Drama           ▇▇▇ (11)\n",
      "Romance         ▇▇ (8)\n",
      "Comedy          ▇▇ (6)\n",
      "Adventure       ▇ (5)\n",
      "Musical         ▇ (4)\n",
      "\n",
      "Период: 1956-1960\n",
      "------------------------------\n",
      "Drama           ▇▇▇▇▇ (15)\n",
      "Comedy          ▇▇ (7)\n",
      "Romance         ▇▇ (6)\n",
      "Adventure       ▇▇ (6)\n",
      "Children        ▇ (4)\n",
      "\n",
      "Период: 1961-1965\n",
      "------------------------------\n",
      "Drama           ▇▇▇ (10)\n",
      "Romance         ▇▇ (7)\n",
      "Comedy          ▇▇ (7)\n",
      "Musical         ▇▇ (6)\n",
      "Children        ▇ (4)\n",
      "\n",
      "Период: 1966-1970\n",
      "------------------------------\n",
      "Drama           ▇▇ (8)\n",
      "Adventure       ▇ (4)\n",
      "Western         ▇ (3)\n",
      "Comedy          ▇ (3)\n",
      "Sci-Fi          ▇ (3)\n",
      "\n",
      "Период: 1971-1975\n",
      "------------------------------\n",
      "Comedy          ▇▇▇▇ (12)\n",
      "Drama           ▇▇▇ (9)\n",
      "Crime           ▇▇ (6)\n",
      "Children        ▇ (5)\n",
      "Fantasy         ▇ (5)\n",
      "\n",
      "Период: 1976-1980\n",
      "------------------------------\n",
      "Drama           ▇▇▇ (10)\n",
      "Comedy          ▇▇ (7)\n",
      "Action          ▇ (4)\n",
      "Sci-Fi          ▇ (4)\n",
      "Horror          ▇ (4)\n",
      "\n",
      "Период: 1981-1985\n",
      "------------------------------\n",
      "Drama           ▇▇▇▇▇ (15)\n",
      "Action          ▇▇ (8)\n",
      "Sci-Fi          ▇▇ (8)\n",
      "Comedy          ▇▇ (8)\n",
      "Adventure       ▇ (5)\n",
      "\n",
      "Период: 1986-1990\n",
      "------------------------------\n",
      "Drama           ▇▇▇▇▇▇▇▇▇▇ (31)\n",
      "Comedy          ▇▇▇▇▇▇ (18)\n",
      "Romance         ▇▇▇▇▇ (15)\n",
      "Action          ▇▇▇▇ (14)\n",
      "Adventure       ▇▇▇ (11)\n",
      "\n",
      "Период: 1991-1995\n",
      "------------------------------\n",
      "Drama           ▇▇▇▇▇▇▇▇▇▇▇▇▇▇▇▇▇▇▇▇▇▇▇▇▇▇▇▇▇▇▇▇▇▇▇▇▇▇▇▇▇▇▇▇▇▇▇▇▇▇▇▇▇▇▇▇▇▇▇▇▇▇▇▇▇▇▇▇▇▇▇▇▇▇▇▇▇▇▇▇▇▇▇▇▇▇▇▇▇▇▇▇▇▇▇▇ (288)\n",
      "Comedy          ▇▇▇▇▇▇▇▇▇▇▇▇▇▇▇▇▇▇▇▇▇▇▇▇▇▇▇▇▇▇▇▇▇▇▇▇▇▇▇▇▇▇▇▇▇▇▇▇▇▇▇▇▇▇▇▇▇▇▇▇▇▇▇▇▇▇▇▇ (206)\n",
      "Romance         ▇▇▇▇▇▇▇▇▇▇▇▇▇▇▇▇▇▇▇▇▇▇▇▇▇▇▇▇▇▇▇▇▇▇▇▇ (108)\n",
      "Thriller        ▇▇▇▇▇▇▇▇▇▇▇▇▇▇▇▇▇▇▇▇▇▇▇▇▇▇▇▇▇▇▇▇ (96)\n",
      "Action          ▇▇▇▇▇▇▇▇▇▇▇▇▇▇▇▇▇▇▇▇▇▇▇▇▇▇▇▇▇▇ (91)\n",
      "\n",
      "Период: 1996-2000\n",
      "------------------------------\n",
      "Drama           ▇▇▇▇▇▇▇▇▇▇▇▇▇▇▇▇▇▇▇▇▇▇▇▇▇▇▇ (83)\n",
      "Comedy          ▇▇▇▇▇▇▇▇▇▇▇▇▇▇▇▇▇▇▇▇▇▇▇▇ (74)\n",
      "Thriller        ▇▇▇▇▇▇▇▇▇▇▇▇▇▇▇▇ (48)\n",
      "Romance         ▇▇▇▇▇▇▇▇▇▇▇ (33)\n",
      "Action          ▇▇▇▇▇▇▇▇▇▇▇ (33)\n"
     ]
    }
   ],
   "source": [
    "period_stats = movies.statistics_by_genre()"
   ]
  },
  {
   "cell_type": "markdown",
   "id": "c8ffbca7-88ce-45d2-8a4e-7aee55694bd5",
   "metadata": {},
   "source": [
    "# Работа класса <span style=\"color:red\"><u></u>Links</span> "
   ]
  },
  {
   "cell_type": "code",
   "execution_count": 3,
   "id": "f0c7e75b-0256-43a8-a246-f2ee8b251554",
   "metadata": {},
   "outputs": [
    {
     "name": "stdout",
     "output_type": "stream",
     "text": [
      "6.57 ms ± 19.3 μs per loop (mean ± std. dev. of 7 runs, 100 loops each)\n"
     ]
    }
   ],
   "source": [
    "%timeit Links('../datasets/links.csv', movies_instance=movies)\n",
    "links = Links('../datasets/links.csv', movies_instance=movies)"
   ]
  },
  {
   "cell_type": "markdown",
   "id": "66e0d3fd-f14d-492d-a031-8195cc067d3f",
   "metadata": {},
   "source": [
    "**Получение информации с IMDB для нескольких фильмов**"
   ]
  },
  {
   "cell_type": "code",
   "execution_count": 77,
   "id": "fd21c869-c80a-4858-811a-d5ce1b9e644a",
   "metadata": {},
   "outputs": [
    {
     "name": "stdout",
     "output_type": "stream",
     "text": [
      "11.9 s ± 1.8 s per loop (mean ± std. dev. of 7 runs, 1 loop each)\n",
      "MovieID 3: Режиссер='Howard Deutch', Продолжительность='1h 41m(101 min)'\n",
      "MovieID 2: Режиссер='Joe Johnston', Продолжительность='1h 44m(104 min)'\n",
      "MovieID 1: Режиссер='John Lasseter', Продолжительность='1h 21m(81 min)'\n"
     ]
    }
   ],
   "source": [
    "sample_movie_ids = [1, 2, 3]  # movieId\n",
    "imdb_info = links.get_imdb(sample_movie_ids, ['Director', 'Runtime'])\n",
    "%timeit links.get_imdb(sample_movie_ids, ['Director', 'Runtime'])\n",
    "for info in imdb_info:\n",
    "    print(f\"MovieID {info[0]}: Режиссер='{info[1]}', Продолжительность='{info[2]}'\")"
   ]
  },
  {
   "cell_type": "markdown",
   "id": "46c49c6c-da0d-4573-96c1-062c38daf6b5",
   "metadata": {},
   "source": [
    "**Метод возвращает словарь с top-n режиссерами, где ключи - режиссеры, а значения - количество фильмов, созданных ими. \n",
    "Отсортировать по количеству по убыванию.**\n",
    "\n",
    "Покажем топ-3 режиссера по количеству фильмов"
   ]
  },
  {
   "cell_type": "code",
   "execution_count": 5,
   "id": "20fe508e-20db-45b3-83d3-21950b49b2db",
   "metadata": {},
   "outputs": [
    {
     "name": "stdout",
     "output_type": "stream",
     "text": [
      "Ошибка при получении режиссера для фильма 147\n",
      "Ошибка при получении режиссера для фильма 231\n"
     ]
    },
    {
     "ename": "KeyboardInterrupt",
     "evalue": "",
     "output_type": "error",
     "traceback": [
      "\u001b[0;31m---------------------------------------------------------------------------\u001b[0m",
      "\u001b[0;31mKeyboardInterrupt\u001b[0m                         Traceback (most recent call last)",
      "Cell \u001b[0;32mIn[5], line 1\u001b[0m\n\u001b[0;32m----> 1\u001b[0m get_ipython()\u001b[38;5;241m.\u001b[39mrun_line_magic(\u001b[38;5;124m'\u001b[39m\u001b[38;5;124mtimeit\u001b[39m\u001b[38;5;124m'\u001b[39m, \u001b[38;5;124m'\u001b[39m\u001b[38;5;124m-n 1 top_dirs = links.top_directors(3)\u001b[39m\u001b[38;5;124m'\u001b[39m)\n\u001b[1;32m      2\u001b[0m top_dirs \u001b[38;5;241m=\u001b[39m links\u001b[38;5;241m.\u001b[39mtop_directors(\u001b[38;5;241m3\u001b[39m)\n\u001b[1;32m      3\u001b[0m \u001b[38;5;28;01mfor\u001b[39;00m director, count \u001b[38;5;129;01min\u001b[39;00m top_dirs\u001b[38;5;241m.\u001b[39mitems():\n",
      "File \u001b[0;32m/opt/anaconda3/lib/python3.13/site-packages/IPython/core/interactiveshell.py:2480\u001b[0m, in \u001b[0;36mInteractiveShell.run_line_magic\u001b[0;34m(self, magic_name, line, _stack_depth)\u001b[0m\n\u001b[1;32m   2478\u001b[0m     kwargs[\u001b[38;5;124m'\u001b[39m\u001b[38;5;124mlocal_ns\u001b[39m\u001b[38;5;124m'\u001b[39m] \u001b[38;5;241m=\u001b[39m \u001b[38;5;28mself\u001b[39m\u001b[38;5;241m.\u001b[39mget_local_scope(stack_depth)\n\u001b[1;32m   2479\u001b[0m \u001b[38;5;28;01mwith\u001b[39;00m \u001b[38;5;28mself\u001b[39m\u001b[38;5;241m.\u001b[39mbuiltin_trap:\n\u001b[0;32m-> 2480\u001b[0m     result \u001b[38;5;241m=\u001b[39m fn(\u001b[38;5;241m*\u001b[39margs, \u001b[38;5;241m*\u001b[39m\u001b[38;5;241m*\u001b[39mkwargs)\n\u001b[1;32m   2482\u001b[0m \u001b[38;5;66;03m# The code below prevents the output from being displayed\u001b[39;00m\n\u001b[1;32m   2483\u001b[0m \u001b[38;5;66;03m# when using magics with decorator @output_can_be_silenced\u001b[39;00m\n\u001b[1;32m   2484\u001b[0m \u001b[38;5;66;03m# when the last Python token in the expression is a ';'.\u001b[39;00m\n\u001b[1;32m   2485\u001b[0m \u001b[38;5;28;01mif\u001b[39;00m \u001b[38;5;28mgetattr\u001b[39m(fn, magic\u001b[38;5;241m.\u001b[39mMAGIC_OUTPUT_CAN_BE_SILENCED, \u001b[38;5;28;01mFalse\u001b[39;00m):\n",
      "File \u001b[0;32m/opt/anaconda3/lib/python3.13/site-packages/IPython/core/magics/execution.py:1199\u001b[0m, in \u001b[0;36mExecutionMagics.timeit\u001b[0;34m(self, line, cell, local_ns)\u001b[0m\n\u001b[1;32m   1196\u001b[0m         \u001b[38;5;28;01mif\u001b[39;00m time_number \u001b[38;5;241m>\u001b[39m\u001b[38;5;241m=\u001b[39m \u001b[38;5;241m0.2\u001b[39m:\n\u001b[1;32m   1197\u001b[0m             \u001b[38;5;28;01mbreak\u001b[39;00m\n\u001b[0;32m-> 1199\u001b[0m all_runs \u001b[38;5;241m=\u001b[39m timer\u001b[38;5;241m.\u001b[39mrepeat(repeat, number)\n\u001b[1;32m   1200\u001b[0m best \u001b[38;5;241m=\u001b[39m \u001b[38;5;28mmin\u001b[39m(all_runs) \u001b[38;5;241m/\u001b[39m number\n\u001b[1;32m   1201\u001b[0m worst \u001b[38;5;241m=\u001b[39m \u001b[38;5;28mmax\u001b[39m(all_runs) \u001b[38;5;241m/\u001b[39m number\n",
      "File \u001b[0;32m/opt/anaconda3/lib/python3.13/timeit.py:208\u001b[0m, in \u001b[0;36mTimer.repeat\u001b[0;34m(self, repeat, number)\u001b[0m\n\u001b[1;32m    206\u001b[0m r \u001b[38;5;241m=\u001b[39m []\n\u001b[1;32m    207\u001b[0m \u001b[38;5;28;01mfor\u001b[39;00m i \u001b[38;5;129;01min\u001b[39;00m \u001b[38;5;28mrange\u001b[39m(repeat):\n\u001b[0;32m--> 208\u001b[0m     t \u001b[38;5;241m=\u001b[39m \u001b[38;5;28mself\u001b[39m\u001b[38;5;241m.\u001b[39mtimeit(number)\n\u001b[1;32m    209\u001b[0m     r\u001b[38;5;241m.\u001b[39mappend(t)\n\u001b[1;32m    210\u001b[0m \u001b[38;5;28;01mreturn\u001b[39;00m r\n",
      "File \u001b[0;32m/opt/anaconda3/lib/python3.13/site-packages/IPython/core/magics/execution.py:173\u001b[0m, in \u001b[0;36mTimer.timeit\u001b[0;34m(self, number)\u001b[0m\n\u001b[1;32m    171\u001b[0m gc\u001b[38;5;241m.\u001b[39mdisable()\n\u001b[1;32m    172\u001b[0m \u001b[38;5;28;01mtry\u001b[39;00m:\n\u001b[0;32m--> 173\u001b[0m     timing \u001b[38;5;241m=\u001b[39m \u001b[38;5;28mself\u001b[39m\u001b[38;5;241m.\u001b[39minner(it, \u001b[38;5;28mself\u001b[39m\u001b[38;5;241m.\u001b[39mtimer)\n\u001b[1;32m    174\u001b[0m \u001b[38;5;28;01mfinally\u001b[39;00m:\n\u001b[1;32m    175\u001b[0m     \u001b[38;5;28;01mif\u001b[39;00m gcold:\n",
      "File \u001b[0;32m<magic-timeit>:1\u001b[0m, in \u001b[0;36minner\u001b[0;34m(_it, _timer)\u001b[0m\n",
      "File \u001b[0;32m~/Desktop/Sber/DS Bootcamp/Day 05/DS_Bootcamp.Team00.ID_886515-Team_TL_frenicaw.155bc714_c04f_495a-1/src/movielens_analysis.py:315\u001b[0m, in \u001b[0;36mLinks.top_directors\u001b[0;34m(self, n)\u001b[0m\n\u001b[1;32m    313\u001b[0m         directors_count[director] \u001b[38;5;241m=\u001b[39m directors_count\u001b[38;5;241m.\u001b[39mget(director, \u001b[38;5;241m0\u001b[39m) \u001b[38;5;241m+\u001b[39m \u001b[38;5;241m1\u001b[39m\n\u001b[1;32m    314\u001b[0m         successful \u001b[38;5;241m+\u001b[39m\u001b[38;5;241m=\u001b[39m \u001b[38;5;241m1\u001b[39m\n\u001b[0;32m--> 315\u001b[0m     time\u001b[38;5;241m.\u001b[39msleep(\u001b[38;5;241m1\u001b[39m)\n\u001b[1;32m    316\u001b[0m \u001b[38;5;28;01mexcept\u001b[39;00m \u001b[38;5;167;01mException\u001b[39;00m:\n\u001b[1;32m    317\u001b[0m     \u001b[38;5;28mprint\u001b[39m(\u001b[38;5;124mf\u001b[39m\u001b[38;5;124m\"\u001b[39m\u001b[38;5;124mОшибка при получении режиссера для фильма \u001b[39m\u001b[38;5;132;01m{\u001b[39;00mmovie_id\u001b[38;5;132;01m}\u001b[39;00m\u001b[38;5;124m\"\u001b[39m)\n",
      "\u001b[0;31mKeyboardInterrupt\u001b[0m: "
     ]
    }
   ],
   "source": [
    "%timeit -n 1 top_dirs = links.top_directors(3)\n",
    "top_dirs = links.top_directors(3)\n",
    "for director, count in top_dirs.items():\n",
    "    print(f\"{director}: {count} фильмов\")"
   ]
  },
  {
   "cell_type": "markdown",
   "id": "a3ed01f2-f88b-4c04-8fdf-18e59e5eee7b",
   "metadata": {},
   "source": [
    "**Метод возвращает словарь с top-n фильмами, где ключи - названия фильмов, а значения - их бюджеты. Отсортировать по бюджетам по убыванию**\n",
    "\n",
    "Покажем топ-3 фильма с самым большим бюджетом "
   ]
  },
  {
   "cell_type": "code",
   "execution_count": null,
   "id": "9cd6927a-e988-402f-a5eb-c603929a78ae",
   "metadata": {},
   "outputs": [],
   "source": [
    "%timeit -n 1 links.most_expensive(3)\n",
    "expensive = links.most_expensive(3)\n",
    "for movie, budget in expensive.items():\n",
    "    print(f\"{movie}: Бюджет = {budget}\")"
   ]
  },
  {
   "cell_type": "markdown",
   "id": "f2f61513-a906-4d3e-87a4-a3c662746ec1",
   "metadata": {},
   "source": [
    "**Метод возвращает словарь с top-n фильмами, где ключи - названия фильмов, а значения - разница между суммарными мировыми сборами и бюджетом. Отсортировать по разнице по убыванию.**\n",
    "\n",
    "Покажем топ-3 фильма по прибыльности"
   ]
  },
  {
   "cell_type": "code",
   "execution_count": null,
   "id": "2be85e9b-c7a5-4490-83da-70ce9ea7ffde",
   "metadata": {},
   "outputs": [],
   "source": [
    "%timeit -n 1 links.most_profitable(3)\n",
    "profitable = links.most_profitable(3)\n",
    "for movie, profit in profitable.items():\n",
    "    print(f\"{movie}: {profit}\")"
   ]
  },
  {
   "cell_type": "markdown",
   "id": "04664b60-5d84-4467-9b37-bdcf3bbdea7e",
   "metadata": {},
   "source": [
    "**Метод возвращает словарь с top-n фильмами, где ключи - названия фильмов, а значения - их продолжительность. Если есть несколько версий – выбрать любую. Отсортировать по продолжительности по убыванию.**\n",
    "\n",
    "Покажем топ-3 фильма по продолжительности"
   ]
  },
  {
   "cell_type": "code",
   "execution_count": null,
   "id": "34148112-bce0-4d9e-89f9-dbe6def9a3cd",
   "metadata": {},
   "outputs": [],
   "source": [
    "%timeit -n 1 longest_films = links.longest(3)\n",
    "longest_films = links.longest(3)\n",
    "for movie, runtime in longest_films.items():\n",
    "    print(f\"{movie}: {runtime}\")"
   ]
  },
  {
   "cell_type": "markdown",
   "id": "0d621b62-2b40-48f4-ac67-15898f0020d1",
   "metadata": {},
   "source": [
    "**Метод возвращает словарь с top-n фильмами, где ключи - названия фильмов, а значения - бюджеты, поделенные на продолжительность. Бюджеты могут быть в разных валютах – не обращайте на это внимание. Значения должны быть округлены до 2 десятичных знаков. Отсортировать по результату деления по убыванию.**\n",
    "\n",
    "Покажем топ-3 фильма по стоимости за минуту"
   ]
  },
  {
   "cell_type": "code",
   "execution_count": null,
   "id": "8c22eb84-3286-42c7-8bbb-a7a45100232f",
   "metadata": {},
   "outputs": [],
   "source": [
    "%timeit -n 1 cost_per_min = links.top_cost_per_minute(3)\n",
    "cost_per_min = links.top_cost_per_minute(3)\n",
    "for movie, cost in cost_per_min.items():\n",
    "    print(f\"{movie}: {cost}\")"
   ]
  },
  {
   "cell_type": "markdown",
   "id": "9cf7000c-9f69-4dbd-9e85-f8e10d6a6d13",
   "metadata": {},
   "source": [
    "## Дополнительный метод класса:\n",
    "\n",
    "**Гистограмма кассовых сборов по годам**"
   ]
  },
  {
   "cell_type": "code",
   "execution_count": 4,
   "id": "5c327936-3808-44c4-8b59-3b473e0062c9",
   "metadata": {},
   "outputs": [
    {
     "name": "stdout",
     "output_type": "stream",
     "text": [
      "\n",
      "======================================================================\n",
      "ГИСТОГРАММА КАССОВЫХ СБОРОВ ПО ГОДАМ ВЫПУСКА\n",
      "======================================================================\n",
      "\n",
      "Год    Сборы           Гистограмма                              Фильмы\n",
      "----------------------------------------------------------------------\n",
      "1964   $206,931         (1 фильмов)\n",
      "Лучший: Umbrellas of Cherbourg, The (Parapluies de Cherbourg, Les) (1964) - $206,931\n",
      "1967   $4,162,697       (1 фильмов)\n",
      "Лучший: Beauty of the Day (Belle de jour) (1967) - $4,162,697\n",
      "1976   $28,979,798      (1 фильмов)\n",
      "Лучший: Taxi Driver (1976) - $28,979,798\n",
      "1977   $775,398,507    ▇▇▇ (1 фильмов)\n",
      "Лучший: Star Wars: Episode IV - A New Hope (1977) - $775,398,507\n",
      "1992   $152,796,645     (2 фильмов)\n",
      "Лучший: Boomerang (1992) - $131,052,444\n",
      "1993   $3,810,298       (2 фильмов)\n",
      "Лучший: My Crazy Life (Mi vida loca) (1993) - $3,267,313\n",
      "1994   $1,594,736,555  ▇▇▇▇▇▇▇ (40 фильмов)\n",
      "Лучший: Dumb & Dumber (Dumb and Dumber) (1994) - $247,290,327\n",
      "1995   $8,787,756,827  ▇▇▇▇▇▇▇▇▇▇▇▇▇▇▇▇▇▇▇▇▇▇▇▇▇▇▇▇▇▇▇▇▇▇▇▇▇▇▇▇ (164 фильмов)\n",
      "Лучший: Toy Story (1995) - $400,859,331\n",
      "1996   $839,852,580    ▇▇▇ (28 фильмов)\n",
      "Лучший: Birdcage, The (1996) - $185,260,553\n"
     ]
    }
   ],
   "source": [
    "box_office = links.box_office_by_year()"
   ]
  }
 ],
 "metadata": {
  "kernelspec": {
   "display_name": "Python 3 (ipykernel)",
   "language": "python",
   "name": "python3"
  },
  "language_info": {
   "codemirror_mode": {
    "name": "ipython",
    "version": 3
   },
   "file_extension": ".py",
   "mimetype": "text/x-python",
   "name": "python",
   "nbconvert_exporter": "python",
   "pygments_lexer": "ipython3",
   "version": "3.13.5"
  },
  "vscode": {
   "interpreter": {
    "hash": "31f2aee4e71d21fbe5cf8b01ff0e069b9275f58929596ceb00d14d90e3e16cd6"
   }
  }
 },
 "nbformat": 4,
 "nbformat_minor": 5
}
