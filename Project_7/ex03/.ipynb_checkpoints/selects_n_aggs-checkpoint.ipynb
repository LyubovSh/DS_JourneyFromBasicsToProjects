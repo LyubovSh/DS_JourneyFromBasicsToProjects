{
 "cells": [
  {
   "cell_type": "code",
   "execution_count": 2,
   "id": "26c053f8-ec14-405d-88f5-68801f92fcab",
   "metadata": {},
   "outputs": [],
   "source": [
    "import pandas as pd"
   ]
  },
  {
   "cell_type": "code",
   "execution_count": 3,
   "id": "396e9135-f9fc-4c16-8670-9890f3505e8b",
   "metadata": {},
   "outputs": [],
   "source": [
    "pd.set_option('mode.chained_assignment', None)"
   ]
  },
  {
   "cell_type": "markdown",
   "id": "5cea6db8-1c1a-4369-95dd-ac44d6b832e4",
   "metadata": {},
   "source": [
    "Загрузим JSON файл, который мы создали в предыдущем упражнении, в dataframe, установим столбец CarNumber в качестве индекса"
   ]
  },
  {
   "cell_type": "code",
   "execution_count": 15,
   "id": "cfb12ecf-a731-409e-8978-d795dfa23b28",
   "metadata": {},
   "outputs": [
    {
     "data": {
      "text/html": [
       "<div>\n",
       "<style scoped>\n",
       "    .dataframe tbody tr th:only-of-type {\n",
       "        vertical-align: middle;\n",
       "    }\n",
       "\n",
       "    .dataframe tbody tr th {\n",
       "        vertical-align: top;\n",
       "    }\n",
       "\n",
       "    .dataframe thead th {\n",
       "        text-align: right;\n",
       "    }\n",
       "</style>\n",
       "<table border=\"1\" class=\"dataframe\">\n",
       "  <thead>\n",
       "    <tr style=\"text-align: right;\">\n",
       "      <th></th>\n",
       "      <th>CarNumber</th>\n",
       "      <th>Make_n_model</th>\n",
       "      <th>Refund</th>\n",
       "      <th>Fines</th>\n",
       "      <th>History</th>\n",
       "      <th>Make</th>\n",
       "      <th>Model</th>\n",
       "    </tr>\n",
       "  </thead>\n",
       "  <tbody>\n",
       "    <tr>\n",
       "      <th>0</th>\n",
       "      <td>Y163O8161RUS</td>\n",
       "      <td>Ford Focus</td>\n",
       "      <td>2</td>\n",
       "      <td>3200.000000</td>\n",
       "      <td>NaN</td>\n",
       "      <td>Ford</td>\n",
       "      <td>Focus</td>\n",
       "    </tr>\n",
       "    <tr>\n",
       "      <th>1</th>\n",
       "      <td>E432XX77RUS</td>\n",
       "      <td>Toyota Camry</td>\n",
       "      <td>1</td>\n",
       "      <td>6500.000000</td>\n",
       "      <td>NaN</td>\n",
       "      <td>Toyota</td>\n",
       "      <td>Camry</td>\n",
       "    </tr>\n",
       "    <tr>\n",
       "      <th>2</th>\n",
       "      <td>7184TT36RUS</td>\n",
       "      <td>Ford Focus</td>\n",
       "      <td>1</td>\n",
       "      <td>2100.000000</td>\n",
       "      <td>NaN</td>\n",
       "      <td>Ford</td>\n",
       "      <td>Focus</td>\n",
       "    </tr>\n",
       "    <tr>\n",
       "      <th>3</th>\n",
       "      <td>X582HE161RUS</td>\n",
       "      <td>Ford Focus</td>\n",
       "      <td>2</td>\n",
       "      <td>2000.000000</td>\n",
       "      <td>NaN</td>\n",
       "      <td>Ford</td>\n",
       "      <td>Focus</td>\n",
       "    </tr>\n",
       "    <tr>\n",
       "      <th>4</th>\n",
       "      <td>E34877152RUS</td>\n",
       "      <td>Ford Focus</td>\n",
       "      <td>2</td>\n",
       "      <td>6100.000000</td>\n",
       "      <td>NaN</td>\n",
       "      <td>Ford</td>\n",
       "      <td>Focus</td>\n",
       "    </tr>\n",
       "    <tr>\n",
       "      <th>...</th>\n",
       "      <td>...</td>\n",
       "      <td>...</td>\n",
       "      <td>...</td>\n",
       "      <td>...</td>\n",
       "      <td>...</td>\n",
       "      <td>...</td>\n",
       "      <td>...</td>\n",
       "    </tr>\n",
       "    <tr>\n",
       "      <th>926</th>\n",
       "      <td>Y163O8161RUS</td>\n",
       "      <td>Ford Focus</td>\n",
       "      <td>2</td>\n",
       "      <td>1600.000000</td>\n",
       "      <td>NaN</td>\n",
       "      <td>Ford</td>\n",
       "      <td>Focus</td>\n",
       "    </tr>\n",
       "    <tr>\n",
       "      <th>927</th>\n",
       "      <td>M0309X197RUS</td>\n",
       "      <td>Ford Focus</td>\n",
       "      <td>1</td>\n",
       "      <td>22300.000000</td>\n",
       "      <td>NaN</td>\n",
       "      <td>Ford</td>\n",
       "      <td>Focus</td>\n",
       "    </tr>\n",
       "    <tr>\n",
       "      <th>928</th>\n",
       "      <td>O673E8197RUS</td>\n",
       "      <td>Ford Focus</td>\n",
       "      <td>2</td>\n",
       "      <td>600.000000</td>\n",
       "      <td>NaN</td>\n",
       "      <td>Ford</td>\n",
       "      <td>Focus</td>\n",
       "    </tr>\n",
       "    <tr>\n",
       "      <th>929</th>\n",
       "      <td>8610T8154RUS</td>\n",
       "      <td>Ford Focus</td>\n",
       "      <td>1</td>\n",
       "      <td>2000.000000</td>\n",
       "      <td>NaN</td>\n",
       "      <td>Ford</td>\n",
       "      <td>Focus</td>\n",
       "    </tr>\n",
       "    <tr>\n",
       "      <th>930</th>\n",
       "      <td>H419XE197RUS</td>\n",
       "      <td>Toyota Corolla</td>\n",
       "      <td>2</td>\n",
       "      <td>7860.989643</td>\n",
       "      <td>2.0</td>\n",
       "      <td>Toyota</td>\n",
       "      <td>Corolla</td>\n",
       "    </tr>\n",
       "  </tbody>\n",
       "</table>\n",
       "<p>931 rows × 7 columns</p>\n",
       "</div>"
      ],
      "text/plain": [
       "        CarNumber    Make_n_model  Refund         Fines  History    Make  \\\n",
       "0    Y163O8161RUS      Ford Focus       2   3200.000000      NaN    Ford   \n",
       "1     E432XX77RUS    Toyota Camry       1   6500.000000      NaN  Toyota   \n",
       "2     7184TT36RUS      Ford Focus       1   2100.000000      NaN    Ford   \n",
       "3    X582HE161RUS      Ford Focus       2   2000.000000      NaN    Ford   \n",
       "4    E34877152RUS      Ford Focus       2   6100.000000      NaN    Ford   \n",
       "..            ...             ...     ...           ...      ...     ...   \n",
       "926  Y163O8161RUS      Ford Focus       2   1600.000000      NaN    Ford   \n",
       "927  M0309X197RUS      Ford Focus       1  22300.000000      NaN    Ford   \n",
       "928  O673E8197RUS      Ford Focus       2    600.000000      NaN    Ford   \n",
       "929  8610T8154RUS      Ford Focus       1   2000.000000      NaN    Ford   \n",
       "930  H419XE197RUS  Toyota Corolla       2   7860.989643      2.0  Toyota   \n",
       "\n",
       "       Model  \n",
       "0      Focus  \n",
       "1      Camry  \n",
       "2      Focus  \n",
       "3      Focus  \n",
       "4      Focus  \n",
       "..       ...  \n",
       "926    Focus  \n",
       "927    Focus  \n",
       "928    Focus  \n",
       "929    Focus  \n",
       "930  Corolla  \n",
       "\n",
       "[931 rows x 7 columns]"
      ]
     },
     "execution_count": 15,
     "metadata": {},
     "output_type": "execute_result"
    }
   ],
   "source": [
    "df = pd.read_json('../ex02/auto.json', orient = 'CarNumber')\n",
    "df"
   ]
  },
  {
   "cell_type": "markdown",
   "id": "1e7971bf-a8c8-4afa-8896-cb17bc99f9e9",
   "metadata": {},
   "source": [
    "Отобразим строки, в которых штрафы больше 2100"
   ]
  },
  {
   "cell_type": "code",
   "execution_count": 18,
   "id": "45568a50-7078-4ec7-b919-6c62b597987f",
   "metadata": {},
   "outputs": [
    {
     "data": {
      "text/html": [
       "<div>\n",
       "<style scoped>\n",
       "    .dataframe tbody tr th:only-of-type {\n",
       "        vertical-align: middle;\n",
       "    }\n",
       "\n",
       "    .dataframe tbody tr th {\n",
       "        vertical-align: top;\n",
       "    }\n",
       "\n",
       "    .dataframe thead th {\n",
       "        text-align: right;\n",
       "    }\n",
       "</style>\n",
       "<table border=\"1\" class=\"dataframe\">\n",
       "  <thead>\n",
       "    <tr style=\"text-align: right;\">\n",
       "      <th></th>\n",
       "      <th>CarNumber</th>\n",
       "      <th>Make_n_model</th>\n",
       "      <th>Refund</th>\n",
       "      <th>Fines</th>\n",
       "      <th>History</th>\n",
       "      <th>Make</th>\n",
       "      <th>Model</th>\n",
       "    </tr>\n",
       "  </thead>\n",
       "  <tbody>\n",
       "    <tr>\n",
       "      <th>0</th>\n",
       "      <td>Y163O8161RUS</td>\n",
       "      <td>Ford Focus</td>\n",
       "      <td>2</td>\n",
       "      <td>3200.000000</td>\n",
       "      <td>NaN</td>\n",
       "      <td>Ford</td>\n",
       "      <td>Focus</td>\n",
       "    </tr>\n",
       "    <tr>\n",
       "      <th>4</th>\n",
       "      <td>E34877152RUS</td>\n",
       "      <td>Ford Focus</td>\n",
       "      <td>2</td>\n",
       "      <td>6100.000000</td>\n",
       "      <td>NaN</td>\n",
       "      <td>Ford</td>\n",
       "      <td>Focus</td>\n",
       "    </tr>\n",
       "    <tr>\n",
       "      <th>10</th>\n",
       "      <td>H234YH197RUS</td>\n",
       "      <td>Ford Focus</td>\n",
       "      <td>2</td>\n",
       "      <td>6000.000000</td>\n",
       "      <td>NaN</td>\n",
       "      <td>Ford</td>\n",
       "      <td>Focus</td>\n",
       "    </tr>\n",
       "    <tr>\n",
       "      <th>12</th>\n",
       "      <td>707987163RUS</td>\n",
       "      <td>Ford Focus</td>\n",
       "      <td>2</td>\n",
       "      <td>2200.000000</td>\n",
       "      <td>NaN</td>\n",
       "      <td>Ford</td>\n",
       "      <td>Focus</td>\n",
       "    </tr>\n",
       "    <tr>\n",
       "      <th>13</th>\n",
       "      <td>K330T8197RUS</td>\n",
       "      <td>Skoda Octavia</td>\n",
       "      <td>2</td>\n",
       "      <td>8200.000000</td>\n",
       "      <td>NaN</td>\n",
       "      <td>Skoda</td>\n",
       "      <td>Octavia</td>\n",
       "    </tr>\n",
       "    <tr>\n",
       "      <th>...</th>\n",
       "      <td>...</td>\n",
       "      <td>...</td>\n",
       "      <td>...</td>\n",
       "      <td>...</td>\n",
       "      <td>...</td>\n",
       "      <td>...</td>\n",
       "      <td>...</td>\n",
       "    </tr>\n",
       "    <tr>\n",
       "      <th>921</th>\n",
       "      <td>O136HO197RUS</td>\n",
       "      <td>Toyota Corolla</td>\n",
       "      <td>2</td>\n",
       "      <td>7800.000000</td>\n",
       "      <td>NaN</td>\n",
       "      <td>Toyota</td>\n",
       "      <td>Corolla</td>\n",
       "    </tr>\n",
       "    <tr>\n",
       "      <th>922</th>\n",
       "      <td>O68897197RUS</td>\n",
       "      <td>Ford Focus</td>\n",
       "      <td>2</td>\n",
       "      <td>12300.000000</td>\n",
       "      <td>NaN</td>\n",
       "      <td>Ford</td>\n",
       "      <td>Focus</td>\n",
       "    </tr>\n",
       "    <tr>\n",
       "      <th>923</th>\n",
       "      <td>O718MM163RUS</td>\n",
       "      <td>Ford Focus</td>\n",
       "      <td>2</td>\n",
       "      <td>7860.989643</td>\n",
       "      <td>NaN</td>\n",
       "      <td>Ford</td>\n",
       "      <td>Focus</td>\n",
       "    </tr>\n",
       "    <tr>\n",
       "      <th>924</th>\n",
       "      <td>7065C8197RUS</td>\n",
       "      <td>Volkswagen Passat</td>\n",
       "      <td>2</td>\n",
       "      <td>11400.000000</td>\n",
       "      <td>NaN</td>\n",
       "      <td>Volkswagen</td>\n",
       "      <td>Passat</td>\n",
       "    </tr>\n",
       "    <tr>\n",
       "      <th>930</th>\n",
       "      <td>H419XE197RUS</td>\n",
       "      <td>Toyota Corolla</td>\n",
       "      <td>2</td>\n",
       "      <td>7860.989643</td>\n",
       "      <td>2.0</td>\n",
       "      <td>Toyota</td>\n",
       "      <td>Corolla</td>\n",
       "    </tr>\n",
       "  </tbody>\n",
       "</table>\n",
       "<p>382 rows × 7 columns</p>\n",
       "</div>"
      ],
      "text/plain": [
       "        CarNumber       Make_n_model  Refund         Fines  History  \\\n",
       "0    Y163O8161RUS         Ford Focus       2   3200.000000      NaN   \n",
       "4    E34877152RUS         Ford Focus       2   6100.000000      NaN   \n",
       "10   H234YH197RUS         Ford Focus       2   6000.000000      NaN   \n",
       "12   707987163RUS         Ford Focus       2   2200.000000      NaN   \n",
       "13   K330T8197RUS      Skoda Octavia       2   8200.000000      NaN   \n",
       "..            ...                ...     ...           ...      ...   \n",
       "921  O136HO197RUS     Toyota Corolla       2   7800.000000      NaN   \n",
       "922  O68897197RUS         Ford Focus       2  12300.000000      NaN   \n",
       "923  O718MM163RUS         Ford Focus       2   7860.989643      NaN   \n",
       "924  7065C8197RUS  Volkswagen Passat       2  11400.000000      NaN   \n",
       "930  H419XE197RUS     Toyota Corolla       2   7860.989643      2.0   \n",
       "\n",
       "           Make    Model  \n",
       "0          Ford    Focus  \n",
       "4          Ford    Focus  \n",
       "10         Ford    Focus  \n",
       "12         Ford    Focus  \n",
       "13        Skoda  Octavia  \n",
       "..          ...      ...  \n",
       "921      Toyota  Corolla  \n",
       "922        Ford    Focus  \n",
       "923        Ford    Focus  \n",
       "924  Volkswagen   Passat  \n",
       "930      Toyota  Corolla  \n",
       "\n",
       "[382 rows x 7 columns]"
      ]
     },
     "execution_count": 18,
     "metadata": {},
     "output_type": "execute_result"
    }
   ],
   "source": [
    "df = df[df['Fines']>2100]\n",
    "df"
   ]
  },
  {
   "cell_type": "markdown",
   "id": "acea2367-c2e7-4662-b1e1-af642f781c7e",
   "metadata": {},
   "source": [
    "Отобразим строки, в которых штрафы превышают 2100, а возврат равен 2"
   ]
  },
  {
   "cell_type": "code",
   "execution_count": 20,
   "id": "79869a37-b34c-4bbc-adb9-0eef037ec267",
   "metadata": {},
   "outputs": [
    {
     "data": {
      "text/html": [
       "<div>\n",
       "<style scoped>\n",
       "    .dataframe tbody tr th:only-of-type {\n",
       "        vertical-align: middle;\n",
       "    }\n",
       "\n",
       "    .dataframe tbody tr th {\n",
       "        vertical-align: top;\n",
       "    }\n",
       "\n",
       "    .dataframe thead th {\n",
       "        text-align: right;\n",
       "    }\n",
       "</style>\n",
       "<table border=\"1\" class=\"dataframe\">\n",
       "  <thead>\n",
       "    <tr style=\"text-align: right;\">\n",
       "      <th></th>\n",
       "      <th>CarNumber</th>\n",
       "      <th>Make_n_model</th>\n",
       "      <th>Refund</th>\n",
       "      <th>Fines</th>\n",
       "      <th>History</th>\n",
       "      <th>Make</th>\n",
       "      <th>Model</th>\n",
       "    </tr>\n",
       "  </thead>\n",
       "  <tbody>\n",
       "    <tr>\n",
       "      <th>0</th>\n",
       "      <td>Y163O8161RUS</td>\n",
       "      <td>Ford Focus</td>\n",
       "      <td>2</td>\n",
       "      <td>3200.000000</td>\n",
       "      <td>NaN</td>\n",
       "      <td>Ford</td>\n",
       "      <td>Focus</td>\n",
       "    </tr>\n",
       "    <tr>\n",
       "      <th>4</th>\n",
       "      <td>E34877152RUS</td>\n",
       "      <td>Ford Focus</td>\n",
       "      <td>2</td>\n",
       "      <td>6100.000000</td>\n",
       "      <td>NaN</td>\n",
       "      <td>Ford</td>\n",
       "      <td>Focus</td>\n",
       "    </tr>\n",
       "    <tr>\n",
       "      <th>10</th>\n",
       "      <td>H234YH197RUS</td>\n",
       "      <td>Ford Focus</td>\n",
       "      <td>2</td>\n",
       "      <td>6000.000000</td>\n",
       "      <td>NaN</td>\n",
       "      <td>Ford</td>\n",
       "      <td>Focus</td>\n",
       "    </tr>\n",
       "    <tr>\n",
       "      <th>12</th>\n",
       "      <td>707987163RUS</td>\n",
       "      <td>Ford Focus</td>\n",
       "      <td>2</td>\n",
       "      <td>2200.000000</td>\n",
       "      <td>NaN</td>\n",
       "      <td>Ford</td>\n",
       "      <td>Focus</td>\n",
       "    </tr>\n",
       "    <tr>\n",
       "      <th>13</th>\n",
       "      <td>K330T8197RUS</td>\n",
       "      <td>Skoda Octavia</td>\n",
       "      <td>2</td>\n",
       "      <td>8200.000000</td>\n",
       "      <td>NaN</td>\n",
       "      <td>Skoda</td>\n",
       "      <td>Octavia</td>\n",
       "    </tr>\n",
       "    <tr>\n",
       "      <th>...</th>\n",
       "      <td>...</td>\n",
       "      <td>...</td>\n",
       "      <td>...</td>\n",
       "      <td>...</td>\n",
       "      <td>...</td>\n",
       "      <td>...</td>\n",
       "      <td>...</td>\n",
       "    </tr>\n",
       "    <tr>\n",
       "      <th>921</th>\n",
       "      <td>O136HO197RUS</td>\n",
       "      <td>Toyota Corolla</td>\n",
       "      <td>2</td>\n",
       "      <td>7800.000000</td>\n",
       "      <td>NaN</td>\n",
       "      <td>Toyota</td>\n",
       "      <td>Corolla</td>\n",
       "    </tr>\n",
       "    <tr>\n",
       "      <th>922</th>\n",
       "      <td>O68897197RUS</td>\n",
       "      <td>Ford Focus</td>\n",
       "      <td>2</td>\n",
       "      <td>12300.000000</td>\n",
       "      <td>NaN</td>\n",
       "      <td>Ford</td>\n",
       "      <td>Focus</td>\n",
       "    </tr>\n",
       "    <tr>\n",
       "      <th>923</th>\n",
       "      <td>O718MM163RUS</td>\n",
       "      <td>Ford Focus</td>\n",
       "      <td>2</td>\n",
       "      <td>7860.989643</td>\n",
       "      <td>NaN</td>\n",
       "      <td>Ford</td>\n",
       "      <td>Focus</td>\n",
       "    </tr>\n",
       "    <tr>\n",
       "      <th>924</th>\n",
       "      <td>7065C8197RUS</td>\n",
       "      <td>Volkswagen Passat</td>\n",
       "      <td>2</td>\n",
       "      <td>11400.000000</td>\n",
       "      <td>NaN</td>\n",
       "      <td>Volkswagen</td>\n",
       "      <td>Passat</td>\n",
       "    </tr>\n",
       "    <tr>\n",
       "      <th>930</th>\n",
       "      <td>H419XE197RUS</td>\n",
       "      <td>Toyota Corolla</td>\n",
       "      <td>2</td>\n",
       "      <td>7860.989643</td>\n",
       "      <td>2.0</td>\n",
       "      <td>Toyota</td>\n",
       "      <td>Corolla</td>\n",
       "    </tr>\n",
       "  </tbody>\n",
       "</table>\n",
       "<p>382 rows × 7 columns</p>\n",
       "</div>"
      ],
      "text/plain": [
       "        CarNumber       Make_n_model  Refund         Fines  History  \\\n",
       "0    Y163O8161RUS         Ford Focus       2   3200.000000      NaN   \n",
       "4    E34877152RUS         Ford Focus       2   6100.000000      NaN   \n",
       "10   H234YH197RUS         Ford Focus       2   6000.000000      NaN   \n",
       "12   707987163RUS         Ford Focus       2   2200.000000      NaN   \n",
       "13   K330T8197RUS      Skoda Octavia       2   8200.000000      NaN   \n",
       "..            ...                ...     ...           ...      ...   \n",
       "921  O136HO197RUS     Toyota Corolla       2   7800.000000      NaN   \n",
       "922  O68897197RUS         Ford Focus       2  12300.000000      NaN   \n",
       "923  O718MM163RUS         Ford Focus       2   7860.989643      NaN   \n",
       "924  7065C8197RUS  Volkswagen Passat       2  11400.000000      NaN   \n",
       "930  H419XE197RUS     Toyota Corolla       2   7860.989643      2.0   \n",
       "\n",
       "           Make    Model  \n",
       "0          Ford    Focus  \n",
       "4          Ford    Focus  \n",
       "10         Ford    Focus  \n",
       "12         Ford    Focus  \n",
       "13        Skoda  Octavia  \n",
       "..          ...      ...  \n",
       "921      Toyota  Corolla  \n",
       "922        Ford    Focus  \n",
       "923        Ford    Focus  \n",
       "924  Volkswagen   Passat  \n",
       "930      Toyota  Corolla  \n",
       "\n",
       "[382 rows x 7 columns]"
      ]
     },
     "execution_count": 20,
     "metadata": {},
     "output_type": "execute_result"
    }
   ],
   "source": [
    "df = df[(df['Fines']>2100) & (df['Refund'] == 2)]\n",
    "df"
   ]
  },
  {
   "cell_type": "markdown",
   "id": "fbccb7fd-1c72-42c5-86c6-6339ccce3545",
   "metadata": {},
   "source": [
    "Отобразим строки, в которых находятся модели из списка: ['Focus', 'Corolla']"
   ]
  },
  {
   "cell_type": "code",
   "execution_count": 25,
   "id": "094cdbea-d4f0-4eda-9aaf-b2176cfb99b2",
   "metadata": {},
   "outputs": [
    {
     "data": {
      "text/plain": [
       "Make  Model\n",
       "Ford  Focus    9\n",
       "Name: Fines, dtype: int64"
      ]
     },
     "execution_count": 25,
     "metadata": {},
     "output_type": "execute_result"
    }
   ],
   "source": [
    "df = df[(df['Model']=='Focus') | (df['Model']=='Corolla')]\n",
    "df\n",
    "\n",
    "\n",
    "df.groupby(['Make', 'Model']).agg('Fines').count()"
   ]
  },
  {
   "cell_type": "markdown",
   "id": "b0b2d0e8-5494-4970-9c78-7e5ed8667699",
   "metadata": {},
   "source": [
    "Отобразите строки, где номер автомобиля из списка: ['Y7689C197RUS', '92928M178RUS', '7788KT197RUS', 'H115YO163RUS', 'X758HY197RUS']"
   ]
  },
  {
   "cell_type": "code",
   "execution_count": 23,
   "id": "7c7dba46-728a-4507-9d8b-d0cc365a419e",
   "metadata": {},
   "outputs": [
    {
     "data": {
      "text/plain": [
       "Make  Model\n",
       "Ford  Focus    9\n",
       "Name: Fines, dtype: int64"
      ]
     },
     "execution_count": 23,
     "metadata": {},
     "output_type": "execute_result"
    }
   ],
   "source": [
    "df  = df[df['CarNumber'].isin(['Y7689C197RUS', '92928M178RUS', '7788KT197RUS', 'H115YO163RUS', 'X758HY197RUS'])]\n",
    "df\n",
    "df.groupby(['Make', 'Model']).agg('Fines').count()"
   ]
  },
  {
   "cell_type": "markdown",
   "id": "d4bd4b80-dffb-433b-a950-98fa9f75cb41",
   "metadata": {},
   "source": [
    "Отобразим медианные штрафы, сгруппирные по маке"
   ]
  },
  {
   "cell_type": "code",
   "execution_count": 24,
   "id": "736bac41-2746-43f4-a1d7-79986ba2aeed",
   "metadata": {},
   "outputs": [
    {
     "data": {
      "text/plain": [
       "Fines    9.0\n",
       "dtype: float64"
      ]
     },
     "execution_count": 24,
     "metadata": {},
     "output_type": "execute_result"
    }
   ],
   "source": [
    "grouped_make = df.groupby('Make').count()\n",
    "aggregated = grouped_make.agg({'Fines': 'mean'})\n",
    "aggregated"
   ]
  },
  {
   "cell_type": "markdown",
   "id": "a0869c9a-8a68-489b-a6a4-8697a99a5448",
   "metadata": {},
   "source": [
    "Отобразим медианные штрафы, сгруппированные по марке и модели"
   ]
  },
  {
   "cell_type": "code",
   "execution_count": null,
   "id": "d0817aaa-a26d-4b19-931c-0b0381072063",
   "metadata": {},
   "outputs": [],
   "source": [
    "grouped_make_model = df.groupby('Make_n_model')\n",
    "aggregated = grouped_make_model.agg({'Fines': 'mean'})\n",
    "aggregated"
   ]
  },
  {
   "cell_type": "markdown",
   "id": "a26c20f7-a2f1-47f1-9b75-5f14464f66a9",
   "metadata": {},
   "source": [
    "Отобразим количество штрафов, сгруппированных по марке и модели, чтобы понять, можем ли мы доверять медианным значениям"
   ]
  },
  {
   "cell_type": "code",
   "execution_count": null,
   "id": "d155c153-7198-4445-a6c7-e8f8962052db",
   "metadata": {},
   "outputs": [],
   "source": [
    "aggregated_1 = grouped_make.agg({'Fines': 'count'})\n",
    "aggregated_2 = grouped_make_model.agg({'Fines': 'count'})\n",
    "aggregated_1, aggregated_2"
   ]
  },
  {
   "cell_type": "markdown",
   "id": "0e5d1f00-1f28-4656-b55b-759e5a42ee18",
   "metadata": {},
   "source": [
    "Отобразим минимальные и максимальные штрафы, сгруппированные по марке и модели, чтобы лучше понять отклонение"
   ]
  },
  {
   "cell_type": "code",
   "execution_count": null,
   "id": "4eb3d642-9ca9-4067-9e37-c765c6e729ee",
   "metadata": {},
   "outputs": [],
   "source": [
    "min_fines = grouped_make_model['Fines'].min()\n",
    "print(\"Минимальные штрафы:\")\n",
    "print(min_fines)\n",
    " \n",
    "max_fines = grouped_make_model['Fines'].max()\n",
    "print(\"\\nМаксимальные штрафы:\")\n",
    "print(max_fines)"
   ]
  },
  {
   "cell_type": "markdown",
   "id": "53c14f22-08b8-4951-988e-10c20807238c",
   "metadata": {},
   "source": [
    "Отобразим стандартное отклонение (полученные данные отражают разброс сумм штрафов для разных марок и моделей автомобилей)"
   ]
  },
  {
   "cell_type": "code",
   "execution_count": null,
   "id": "23267bac-9f1c-431c-b584-1e40d15ba026",
   "metadata": {},
   "outputs": [],
   "source": [
    "std_deviation = grouped_make_model['Fines'].std()\n",
    "std_deviation"
   ]
  },
  {
   "cell_type": "markdown",
   "id": "ed6b423b-864a-4884-b93a-557925f99241",
   "metadata": {},
   "source": [
    "Отобразим дисперсию"
   ]
  },
  {
   "cell_type": "code",
   "execution_count": null,
   "id": "a3ae4ce3-1b03-414f-9062-1a2c7165026b",
   "metadata": {},
   "outputs": [],
   "source": [
    "variance = grouped_make_model['Fines'].var()\n",
    "variance"
   ]
  },
  {
   "cell_type": "markdown",
   "id": "15c25508-dbd4-4cf4-9e69-1fc7783b3fcb",
   "metadata": {},
   "source": [
    "Отобразим номера автомобилей, сгруппированные по количеству штрафов в порядке убывания. Найдем тех, кто чаще всего нарушал закон."
   ]
  },
  {
   "cell_type": "code",
   "execution_count": null,
   "id": "d0c83a54-4a7a-4e01-a567-942ed8dd24df",
   "metadata": {},
   "outputs": [],
   "source": [
    "fines_by_car_number = df.groupby('CarNumber')['Fines'].count().sort_values(ascending=False)\n",
    "fines_by_car_number"
   ]
  },
  {
   "cell_type": "markdown",
   "id": "c914621f-c477-48fc-9e2e-38a2b7e1b193",
   "metadata": {},
   "source": [
    "Выберем из исходного DataFrame все строки, соответствующие автомобилю с номером №1 (топ-1). Мы хотим изучить его подробнее."
   ]
  },
  {
   "cell_type": "code",
   "execution_count": null,
   "id": "a61ced1b-6f14-43bb-ac28-fc16df1042f9",
   "metadata": {},
   "outputs": [],
   "source": [
    "df[(df['CarNumber'].isin(fines_by_car_number.head(6).index))]"
   ]
  },
  {
   "cell_type": "markdown",
   "id": "3308a2ec-9ddc-4507-8abb-9dea69124511",
   "metadata": {},
   "source": [
    "Отобразим номера автомобилей, сгруппированные по сумме штрафов в порядке убывания. Найдем тех, кто заплатил больше всего."
   ]
  },
  {
   "cell_type": "code",
   "execution_count": null,
   "id": "75e73903-6174-44ca-a082-70272d46eb2e",
   "metadata": {},
   "outputs": [],
   "source": [
    "car_number = df.groupby('CarNumber')['Fines'].sum().sort_values(ascending=False)\n",
    "car_number"
   ]
  },
  {
   "cell_type": "markdown",
   "id": "8e6125dd-e99e-4195-be77-b106cb2eb19b",
   "metadata": {},
   "source": [
    "Выберем все строки, соответствующие автомобилю с номером №1 (топ-1) из исходного DataFrame, изучим его подробнее."
   ]
  },
  {
   "cell_type": "code",
   "execution_count": null,
   "id": "d587073f-b1b2-4b0e-a1b0-53f5cff93660",
   "metadata": {},
   "outputs": [],
   "source": [
    "df[(df['CarNumber'] == 'M0279X197RUS')]"
   ]
  },
  {
   "cell_type": "markdown",
   "id": "df20ebd9-c05c-44c2-bc80-bcef29abce09",
   "metadata": {},
   "source": [
    "Отобразим таблицу, которая отвечает на вопрос: «Есть ли номера автомобилей, которые связаны с разными моделями?»"
   ]
  },
  {
   "cell_type": "code",
   "execution_count": null,
   "id": "6fcf36dd-9b35-4f64-9e73-cfdb9ee95c9b",
   "metadata": {},
   "outputs": [],
   "source": [
    "df.groupby('CarNumber')['Make_n_model'].nunique()"
   ]
  }
 ],
 "metadata": {
  "kernelspec": {
   "display_name": "Python 3 (ipykernel)",
   "language": "python",
   "name": "python3"
  },
  "language_info": {
   "codemirror_mode": {
    "name": "ipython",
    "version": 3
   },
   "file_extension": ".py",
   "mimetype": "text/x-python",
   "name": "python",
   "nbconvert_exporter": "python",
   "pygments_lexer": "ipython3",
   "version": "3.13.5"
  }
 },
 "nbformat": 4,
 "nbformat_minor": 5
}
